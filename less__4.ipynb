{
 "cells": [
  {
   "cell_type": "code",
   "execution_count": 1,
   "id": "397bcc2c",
   "metadata": {},
   "outputs": [],
   "source": [
    "import numpy as np"
   ]
  },
  {
   "cell_type": "markdown",
   "id": "9e3be0da",
   "metadata": {},
   "source": [
    "Решить систему уравнений методом Гаусса:\n",
    "    \n",
    "    \n",
    "x1+x2−x3−2x4=0,\n",
    "\n",
    "2x1+x2−x3+x4=−2,\n",
    "\n",
    "x1+x2−3x3+x4=4."
   ]
  },
  {
   "cell_type": "markdown",
   "id": "49bf2237",
   "metadata": {},
   "source": [
    "1 1 -1 -2 | 0\n",
    "\n",
    "2 1 -1 1 | -2\n",
    "\n",
    "1 1 -3 1 | 4"
   ]
  },
  {
   "cell_type": "markdown",
   "id": "5aef2270",
   "metadata": {},
   "source": [
    "1 1 -1 -2 | 0\n",
    "\n",
    "0 -1 1 5 | -2\n",
    "\n",
    "0 0 -2 3 | 4"
   ]
  },
  {
   "cell_type": "markdown",
   "id": "ab014556",
   "metadata": {},
   "source": [
    "x1+x2−x3−2x4=0,\n",
    "\n",
    "-x2+x3+5x4=−2,\n",
    "\n",
    "−2x3+3x4=4."
   ]
  },
  {
   "cell_type": "markdown",
   "id": "d2cf5a7e",
   "metadata": {},
   "source": [
    "Имеет бесконечное число решений. Примем х4 = 0:\n",
    "    \n",
    "x1+x2−x3=0, \n",
    "\n",
    "-x2+x3=−2,\n",
    "\n",
    "−2x3=4."
   ]
  },
  {
   "cell_type": "markdown",
   "id": "5c3cd076",
   "metadata": {},
   "source": [
    "х1 = -2\n",
    "\n",
    "х2 = 0\n",
    "\n",
    "х3 -2\n",
    "\n",
    "х4 = 0"
   ]
  },
  {
   "cell_type": "markdown",
   "id": "d51800ea",
   "metadata": {},
   "source": [
    "Проверить на совместность и выяснить, сколько решений будет иметь система линейных уравнений"
   ]
  },
  {
   "cell_type": "code",
   "execution_count": 5,
   "id": "30b53f6d",
   "metadata": {},
   "outputs": [
    {
     "data": {
      "text/plain": [
       "True"
      ]
     },
     "execution_count": 5,
     "metadata": {},
     "output_type": "execute_result"
    }
   ],
   "source": [
    "# a)\n",
    "A = np.array([[3, -1, 1], [2, -5, -3], [1, 1, -1]])\n",
    "\n",
    "B = np.array([[3, -1, 1, 4], [2, -5, -3, -17], [1, 1, -1, 0]])\n",
    "\n",
    "np.linalg.matrix_rank(A) == np.linalg.matrix_rank(B)"
   ]
  },
  {
   "cell_type": "code",
   "execution_count": 6,
   "id": "91fe559a",
   "metadata": {},
   "outputs": [
    {
     "data": {
      "text/plain": [
       "True"
      ]
     },
     "execution_count": 6,
     "metadata": {},
     "output_type": "execute_result"
    }
   ],
   "source": [
    "np.linalg.matrix_rank(A) == np.linalg.matrix_rank(B) == 3"
   ]
  },
  {
   "cell_type": "markdown",
   "id": "46bc850d",
   "metadata": {},
   "source": [
    "совместна, имеет единственное решение"
   ]
  },
  {
   "cell_type": "code",
   "execution_count": 7,
   "id": "f45911a0",
   "metadata": {},
   "outputs": [
    {
     "data": {
      "text/plain": [
       "False"
      ]
     },
     "execution_count": 7,
     "metadata": {},
     "output_type": "execute_result"
    }
   ],
   "source": [
    "# б)\n",
    "A = np.array([[2, -4, 6], [1, -2, 3], [3, -6, 9]])\n",
    "B = np.array([[2, -4, 6, 1], [1, -2, 3, -2], [3, -6, 9, 5]])\n",
    "np.linalg.matrix_rank(A) == np.linalg.matrix_rank(B)"
   ]
  },
  {
   "cell_type": "code",
   "execution_count": 8,
   "id": "b55f054a",
   "metadata": {},
   "outputs": [
    {
     "data": {
      "text/plain": [
       "1"
      ]
     },
     "execution_count": 8,
     "metadata": {},
     "output_type": "execute_result"
    }
   ],
   "source": [
    "np.linalg.matrix_rank(A)"
   ]
  },
  {
   "cell_type": "code",
   "execution_count": 9,
   "id": "9541172c",
   "metadata": {},
   "outputs": [
    {
     "data": {
      "text/plain": [
       "2"
      ]
     },
     "execution_count": 9,
     "metadata": {},
     "output_type": "execute_result"
    }
   ],
   "source": [
    "np.linalg.matrix_rank(B)"
   ]
  },
  {
   "cell_type": "markdown",
   "id": "14f24b65",
   "metadata": {},
   "source": [
    "несовместна, не имеет решений"
   ]
  },
  {
   "cell_type": "code",
   "execution_count": 10,
   "id": "6c77dfe3",
   "metadata": {},
   "outputs": [
    {
     "data": {
      "text/plain": [
       "True"
      ]
     },
     "execution_count": 10,
     "metadata": {},
     "output_type": "execute_result"
    }
   ],
   "source": [
    "#в)\n",
    "A = np.array([[1, 2, 5], [3, 1, -8]])\n",
    "A_wide = np.array([[1, 2, 5, 4], [3, 1, -8, -2]])\n",
    "np.linalg.matrix_rank(A) == np.linalg.matrix_rank(A_wide)"
   ]
  },
  {
   "cell_type": "code",
   "execution_count": 11,
   "id": "59716ff4",
   "metadata": {},
   "outputs": [
    {
     "data": {
      "text/plain": [
       "False"
      ]
     },
     "execution_count": 11,
     "metadata": {},
     "output_type": "execute_result"
    }
   ],
   "source": [
    "n = 3\n",
    "np.linalg.matrix_rank(A) == np.linalg.matrix_rank(A_wide)== n"
   ]
  },
  {
   "cell_type": "code",
   "execution_count": 12,
   "id": "437bbcbd",
   "metadata": {},
   "outputs": [
    {
     "data": {
      "text/plain": [
       "2"
      ]
     },
     "execution_count": 12,
     "metadata": {},
     "output_type": "execute_result"
    }
   ],
   "source": [
    "np.linalg.matrix_rank(A)"
   ]
  },
  {
   "cell_type": "markdown",
   "id": "104af3ff",
   "metadata": {},
   "source": [
    "совместна, имеет бесконечное множество решений"
   ]
  },
  {
   "cell_type": "markdown",
   "id": "2c20eb1f",
   "metadata": {},
   "source": [
    "Проверить на совместность и выяснить, сколько решений будет иметь система линейных уравнений, заданная расширенной матрицей "
   ]
  },
  {
   "cell_type": "code",
   "execution_count": 14,
   "id": "b2b906b4",
   "metadata": {},
   "outputs": [],
   "source": [
    "A = np.array([[1, 3, -2, 4], [0, 5, 0, 1], [0, 0, 3, 0], [0, 0, 0, 2]])\n",
    "B = np.array([[1, 3, -2, 4, 3], [0, 5, 0, 1, 2], [0, 0, 3, 0, 4], [0, 0, 0, 2, 1]])"
   ]
  },
  {
   "cell_type": "code",
   "execution_count": 15,
   "id": "b2f9a836",
   "metadata": {},
   "outputs": [
    {
     "data": {
      "text/plain": [
       "4"
      ]
     },
     "execution_count": 15,
     "metadata": {},
     "output_type": "execute_result"
    }
   ],
   "source": [
    "np.linalg.matrix_rank(A)"
   ]
  },
  {
   "cell_type": "code",
   "execution_count": 16,
   "id": "a2db7bd2",
   "metadata": {},
   "outputs": [
    {
     "data": {
      "text/plain": [
       "4"
      ]
     },
     "execution_count": 16,
     "metadata": {},
     "output_type": "execute_result"
    }
   ],
   "source": [
    "np.linalg.matrix_rank(B)"
   ]
  },
  {
   "cell_type": "markdown",
   "id": "4c7ac33c",
   "metadata": {},
   "source": [
    "совместна, имеет единственное решение"
   ]
  },
  {
   "cell_type": "markdown",
   "id": "11e83b85",
   "metadata": {},
   "source": [
    "Дана система линейных уравнений, заданная расширенной матрицей\n",
    "\n",
    "Найти соотношение между параметрами  a ,  b  и  c , при которых система является несовместной.\n",
    "\n"
   ]
  },
  {
   "cell_type": "markdown",
   "id": "127a72d6",
   "metadata": {},
   "source": [
    "1 2 3 | a\n",
    "\n",
    "4 5  6 | b\n",
    "\n",
    "7 8 9 | c"
   ]
  },
  {
   "cell_type": "markdown",
   "id": "5e5426e0",
   "metadata": {},
   "source": [
    "b = a + 3\n",
    "\n",
    "c = a + 6, то Rank = 1, т.е.\n",
    "\n",
    "при любых соотношениях a, b, c кроме указанных, система будет несовместна."
   ]
  },
  {
   "cell_type": "markdown",
   "id": "e8db690f",
   "metadata": {},
   "source": [
    "Решить систему уравнений методом Крамера:\n",
    "\n",
    "а)  x1−2x2=1\n",
    "\n",
    "3x1−4x2=7 \n",
    "\n",
    "\n",
    "б)  2x1−x2+5x3=10\n",
    "\n",
    "x1+x2−3x3=−2\n",
    "\n",
    "2x1+4x2+x3=1"
   ]
  },
  {
   "cell_type": "markdown",
   "id": "bb365b53",
   "metadata": {},
   "source": [
    "а)\n",
    "\n",
    "1 -2 \n",
    "\n",
    "3 -4\n",
    "\n",
    "= 2\n",
    "_______________\n",
    "\n",
    "1 -2 \n",
    "\n",
    "7 -4\n",
    "\n",
    "= 10\n",
    "_______________\n",
    "\n",
    "1 1 \n",
    "\n",
    "3 7\n",
    "\n",
    "= 4"
   ]
  },
  {
   "cell_type": "markdown",
   "id": "e6385f55",
   "metadata": {},
   "source": [
    "10/2\n",
    "\n",
    "4/2\n",
    "\n",
    "=\n",
    "\n",
    "5\n",
    "\n",
    "2"
   ]
  },
  {
   "cell_type": "markdown",
   "id": "aa031533",
   "metadata": {},
   "source": [
    "б)\n",
    "\n",
    "2 -1 5\n",
    "\n",
    "1 1 -3\n",
    "\n",
    "2 4 1\n",
    "\n",
    "= 43\n",
    "__________________\n",
    "\n",
    "10 -1 5\n",
    "\n",
    "-2 1 -3\n",
    "\n",
    "1 4 1\n",
    "\n",
    "= 86\n",
    "__________________\n",
    "\n",
    "2 10 5\n",
    "\n",
    "1 -2 -3\n",
    "\n",
    "2 1 1\n",
    "\n",
    "= -43\n",
    "__________________\n",
    "\n",
    "2 -1 10\n",
    "\n",
    "1 1 -2\n",
    "\n",
    "2 4 1\n",
    "\n",
    "= 43"
   ]
  },
  {
   "cell_type": "markdown",
   "id": "f050faab",
   "metadata": {},
   "source": [
    "86/43\n",
    "\n",
    "-43/43\n",
    "\n",
    "43/43\n",
    "\n",
    "= \n",
    "\n",
    "2\n",
    "\n",
    "-1\n",
    "\n",
    "2"
   ]
  },
  {
   "cell_type": "code",
   "execution_count": null,
   "id": "6c6226ac",
   "metadata": {},
   "outputs": [],
   "source": []
  }
 ],
 "metadata": {
  "kernelspec": {
   "display_name": "Python 3",
   "language": "python",
   "name": "python3"
  },
  "language_info": {
   "codemirror_mode": {
    "name": "ipython",
    "version": 3
   },
   "file_extension": ".py",
   "mimetype": "text/x-python",
   "name": "python",
   "nbconvert_exporter": "python",
   "pygments_lexer": "ipython3",
   "version": "3.8.8"
  }
 },
 "nbformat": 4,
 "nbformat_minor": 5
}

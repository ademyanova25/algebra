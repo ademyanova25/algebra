{
 "cells": [
  {
   "cell_type": "code",
   "execution_count": 19,
   "id": "87de8d11",
   "metadata": {},
   "outputs": [],
   "source": [
    "import numpy as np"
   ]
  },
  {
   "cell_type": "markdown",
   "id": "86d51093",
   "metadata": {},
   "source": [
    "Найти собственные векторы и собственные значения для линейного оператора, заданного матрицей [[-1, -6], [2, 6]]"
   ]
  },
  {
   "cell_type": "code",
   "execution_count": 20,
   "id": "aec0bd71",
   "metadata": {},
   "outputs": [],
   "source": [
    "a = np.array([[-1, -6], [2, 6]])\n",
    "b, c = np.linalg.eig(a)"
   ]
  },
  {
   "cell_type": "code",
   "execution_count": 21,
   "id": "e2939357",
   "metadata": {},
   "outputs": [
    {
     "data": {
      "text/plain": [
       "array([2., 3.])"
      ]
     },
     "execution_count": 21,
     "metadata": {},
     "output_type": "execute_result"
    }
   ],
   "source": [
    "b"
   ]
  },
  {
   "cell_type": "code",
   "execution_count": 22,
   "id": "17d640a9",
   "metadata": {},
   "outputs": [
    {
     "data": {
      "text/plain": [
       "array([[-0.89442719,  0.83205029],\n",
       "       [ 0.4472136 , -0.5547002 ]])"
      ]
     },
     "execution_count": 22,
     "metadata": {},
     "output_type": "execute_result"
    }
   ],
   "source": [
    "c"
   ]
  },
  {
   "cell_type": "markdown",
   "id": "39189a76",
   "metadata": {},
   "source": [
    "Дан оператор поворота на 180 градусов, задаваемый матрицей [[-1, 0], [0, -1]]. Показать, что любой вектор является для него собственным."
   ]
  },
  {
   "cell_type": "code",
   "execution_count": 23,
   "id": "d3956ed5",
   "metadata": {},
   "outputs": [],
   "source": [
    "a = np.array([[-1, 0], [0, -1]])\n",
    "b, c = np.linalg.eig(a)"
   ]
  },
  {
   "cell_type": "code",
   "execution_count": 24,
   "id": "06c5c2bc",
   "metadata": {},
   "outputs": [
    {
     "data": {
      "text/plain": [
       "array([-1., -1.])"
      ]
     },
     "execution_count": 24,
     "metadata": {},
     "output_type": "execute_result"
    }
   ],
   "source": [
    "b"
   ]
  },
  {
   "cell_type": "code",
   "execution_count": 25,
   "id": "92240d5b",
   "metadata": {},
   "outputs": [
    {
     "data": {
      "text/plain": [
       "array([[1., 0.],\n",
       "       [0., 1.]])"
      ]
     },
     "execution_count": 25,
     "metadata": {},
     "output_type": "execute_result"
    }
   ],
   "source": [
    "c"
   ]
  },
  {
   "cell_type": "markdown",
   "id": "adf62c14",
   "metadata": {},
   "source": [
    "Пусть линейный оператор задан матрицей [[1, 1], [-1, 3]] . Установить, является ли вектор  x=(1,1)  собственным вектором этого линейного оператора."
   ]
  },
  {
   "cell_type": "code",
   "execution_count": 26,
   "id": "0419701e",
   "metadata": {},
   "outputs": [],
   "source": [
    "a = np.array([[1, 1], [-1, 3]])\n",
    "b, c = np.linalg.eig(a)"
   ]
  },
  {
   "cell_type": "code",
   "execution_count": 27,
   "id": "24acd5d3",
   "metadata": {},
   "outputs": [
    {
     "data": {
      "text/plain": [
       "array([2.00000002, 1.99999998])"
      ]
     },
     "execution_count": 27,
     "metadata": {},
     "output_type": "execute_result"
    }
   ],
   "source": [
    "b"
   ]
  },
  {
   "cell_type": "code",
   "execution_count": 28,
   "id": "6302e169",
   "metadata": {},
   "outputs": [
    {
     "data": {
      "text/plain": [
       "array([[ 0.70710677, -0.70710679],\n",
       "       [ 0.70710679, -0.70710677]])"
      ]
     },
     "execution_count": 28,
     "metadata": {},
     "output_type": "execute_result"
    }
   ],
   "source": [
    "c"
   ]
  },
  {
   "cell_type": "markdown",
   "id": "554e1841",
   "metadata": {},
   "source": [
    "Пусть линейный оператор задан матрицей [[0, 3, 0], [3, 0, 0], [0, 0, 3]] . Установить, является ли вектор  x=(1,1)  собственным вектором этого линейного оператора."
   ]
  },
  {
   "cell_type": "code",
   "execution_count": 29,
   "id": "b8546360",
   "metadata": {},
   "outputs": [],
   "source": [
    "a = np.array([[0, 3, 0], [3, 0, 0], [0, 0, 3]])\n",
    "b, c = np.linalg.eig(a)"
   ]
  },
  {
   "cell_type": "code",
   "execution_count": 30,
   "id": "61c36300",
   "metadata": {},
   "outputs": [
    {
     "data": {
      "text/plain": [
       "array([ 3., -3.,  3.])"
      ]
     },
     "execution_count": 30,
     "metadata": {},
     "output_type": "execute_result"
    }
   ],
   "source": [
    "b"
   ]
  },
  {
   "cell_type": "code",
   "execution_count": 31,
   "id": "13b69ff7",
   "metadata": {},
   "outputs": [
    {
     "data": {
      "text/plain": [
       "array([[ 0.70710678, -0.70710678,  0.        ],\n",
       "       [ 0.70710678,  0.70710678,  0.        ],\n",
       "       [ 0.        ,  0.        ,  1.        ]])"
      ]
     },
     "execution_count": 31,
     "metadata": {},
     "output_type": "execute_result"
    }
   ],
   "source": [
    "c"
   ]
  }
 ],
 "metadata": {
  "kernelspec": {
   "display_name": "Python 3",
   "language": "python",
   "name": "python3"
  },
  "language_info": {
   "codemirror_mode": {
    "name": "ipython",
    "version": 3
   },
   "file_extension": ".py",
   "mimetype": "text/x-python",
   "name": "python",
   "nbconvert_exporter": "python",
   "pygments_lexer": "ipython3",
   "version": "3.8.8"
  }
 },
 "nbformat": 4,
 "nbformat_minor": 5
}

{
 "cells": [
  {
   "cell_type": "markdown",
   "id": "5049436e",
   "metadata": {},
   "source": [
    "1. Найти скалярное произведение векторов  x,y∈R :\n",
    "\n",
    "а)  x=(0,−3,6), y=(−4,7,9); \n",
    "\n",
    "б)  x=(7,−4,0,1), y=(−3,1,11,2). "
   ]
  },
  {
   "cell_type": "code",
   "execution_count": 8,
   "id": "ce1e7a06",
   "metadata": {},
   "outputs": [
    {
     "data": {
      "text/plain": [
       "33"
      ]
     },
     "execution_count": 8,
     "metadata": {},
     "output_type": "execute_result"
    }
   ],
   "source": [
    "0 * (-4) + (-3) * 7 + 6 * 9"
   ]
  },
  {
   "cell_type": "code",
   "execution_count": 9,
   "id": "042b0fba",
   "metadata": {},
   "outputs": [
    {
     "data": {
      "text/plain": [
       "-23"
      ]
     },
     "execution_count": 9,
     "metadata": {},
     "output_type": "execute_result"
    }
   ],
   "source": [
    "7 * (-3) + (-4) * 1 + 0 * 11 + 1 * 2 "
   ]
  },
  {
   "cell_type": "markdown",
   "id": "c607f190",
   "metadata": {},
   "source": [
    "2. Найти нормы векторов  (4,2,4)  и  (12,3,4)  и угол между ними.\n"
   ]
  },
  {
   "cell_type": "code",
   "execution_count": 10,
   "id": "cbc2cf8e",
   "metadata": {},
   "outputs": [],
   "source": [
    "import math"
   ]
  },
  {
   "cell_type": "code",
   "execution_count": 11,
   "id": "4409c95d",
   "metadata": {},
   "outputs": [
    {
     "data": {
      "text/plain": [
       "6.0"
      ]
     },
     "execution_count": 11,
     "metadata": {},
     "output_type": "execute_result"
    }
   ],
   "source": [
    "math.sqrt((4 ** 2) + (2 ** 2) + (4 ** 2))"
   ]
  },
  {
   "cell_type": "code",
   "execution_count": 12,
   "id": "c3544f4b",
   "metadata": {},
   "outputs": [
    {
     "data": {
      "text/plain": [
       "13.0"
      ]
     },
     "execution_count": 12,
     "metadata": {},
     "output_type": "execute_result"
    }
   ],
   "source": [
    "math.sqrt((12 ** 2) + (3 ** 2) + (4 ** 2))"
   ]
  },
  {
   "cell_type": "code",
   "execution_count": 13,
   "id": "5c2e06be",
   "metadata": {},
   "outputs": [
    {
     "data": {
      "text/plain": [
       "70"
      ]
     },
     "execution_count": 13,
     "metadata": {},
     "output_type": "execute_result"
    }
   ],
   "source": [
    "4 * 12 + 2 * 3 + 4 * 4"
   ]
  },
  {
   "cell_type": "code",
   "execution_count": 14,
   "id": "8876d538",
   "metadata": {},
   "outputs": [
    {
     "data": {
      "text/plain": [
       "0.8974358974358975"
      ]
     },
     "execution_count": 14,
     "metadata": {},
     "output_type": "execute_result"
    }
   ],
   "source": [
    "70 / (6 * 13)"
   ]
  },
  {
   "cell_type": "markdown",
   "id": "1df9a0e2",
   "metadata": {},
   "source": [
    "3. Будет ли линейное пространство евклидовым, если за скалярное произведение принять:\n",
    "\n",
    "а) произведение длин векторов;\n",
    "\n",
    "б) утроенное обычное скалярное произведение векторов?"
   ]
  },
  {
   "cell_type": "markdown",
   "id": "11c8cf10",
   "metadata": {},
   "source": [
    "**Ответ:** a) является евклидовым\n",
    "\n",
    "б) не является евклидовым"
   ]
  },
  {
   "cell_type": "markdown",
   "id": "a170d9fd",
   "metadata": {},
   "source": [
    "4. Какие из нижеперечисленных векторов образуют ортонормированный базис в линейном пространстве  R3 :\n",
    "\n",
    "а)  (1,0,0),(0,0,1); \n",
    "\n",
    "б)  (1/2–√,−1/2–√,0),(1/2–√,1/2–√,0),(0,0,1); \n",
    "\n",
    "в)  (1/2,−1/2,0),(0,1/2,1/2),(0,0,1); \n",
    "\n",
    "г)  (1,0,0),(0,1,0),(0,0,1)?"
   ]
  },
  {
   "cell_type": "markdown",
   "id": "ca5b51be",
   "metadata": {},
   "source": [
    "**Ответ:** г) "
   ]
  },
  {
   "cell_type": "markdown",
   "id": "322feac4",
   "metadata": {},
   "source": [
    "1. Исследовать на линейную зависимость:\n",
    "\n",
    "f1(x)=ex, f2(x)=1, f3(x)=x+1, f4(x)=x−ex. "
   ]
  },
  {
   "cell_type": "markdown",
   "id": "c056a659",
   "metadata": {},
   "source": [
    "**Ответ:** f4(x)=f3(x) - f2(x) - f1(x) => x + 1 - 1 - ex = х - ex \n",
    "\n",
    "то есть вектор  f4(x)  — линейная комбинация векторов f1(x), f2(x) и f3(x), из чего можно сделать вывод, что они линейно зависимы."
   ]
  },
  {
   "cell_type": "markdown",
   "id": "ba87b4d2",
   "metadata": {},
   "source": [
    "2. Исследовать на линейную зависимость:\n",
    "\n",
    "f1(x)=2, f2(x)=x, f3(x)=x2, f4(x)=(x+1)2"
   ]
  },
  {
   "cell_type": "markdown",
   "id": "d1518567",
   "metadata": {},
   "source": [
    "**Ответ:** f4(x)=f3(x) + 2f2(x) +  0,5f1(x) => x2 + 2х + 0,5 * 2 = (x+1)2 \n",
    "\n",
    "то есть вектор  f4(x)  — линейная комбинация векторов f1(x), f2(x) и f3(x), из чего можно сделать вывод, что они линейно зависимы."
   ]
  },
  {
   "cell_type": "markdown",
   "id": "1d177c34",
   "metadata": {},
   "source": [
    "3. Найти координаты вектора x=(2,3,5)∈R3 в базисе b1=(0,0,10), b2=(2,0,0), b3=(0,1,0).\n"
   ]
  },
  {
   "cell_type": "markdown",
   "id": "d718b82f",
   "metadata": {},
   "source": [
    "**Ответ:** \n",
    "\n",
    "x = (2,3,5) = 2⋅(2,0,0)+3⋅(0,1,0)+5⋅(0,0,10)= 1⋅(1,0,0)+3⋅(0,1,0)+0,5⋅(0,0,1)\n",
    "\n",
    "то есть координатами вектора  x  являются  1 , 3, 0,5."
   ]
  },
  {
   "cell_type": "code",
   "execution_count": 15,
   "id": "09e66683",
   "metadata": {},
   "outputs": [
    {
     "name": "stdout",
     "output_type": "stream",
     "text": [
      "[1.  3.  0.5]\n"
     ]
    }
   ],
   "source": [
    "import numpy as np\n",
    "\n",
    "\n",
    "b1 = np.array([[2, 0, 0], [0, 1, 0], [0, 0, 10]])\n",
    "v = np.array([2, 3, 5])\n",
    "\n",
    "print(np.linalg.solve(b1, v))"
   ]
  },
  {
   "cell_type": "markdown",
   "id": "c80a07ba",
   "metadata": {},
   "source": [
    "4. Найти координаты вектора 3x2−2x+2∈R3[x]:\n",
    "\n",
    "а) в базисе 1, x, x2;\n",
    "\n",
    "б) в базисе x2, x−1, 1."
   ]
  },
  {
   "cell_type": "code",
   "execution_count": 16,
   "id": "022e38c7",
   "metadata": {},
   "outputs": [
    {
     "name": "stdout",
     "output_type": "stream",
     "text": [
      "[ 2. -2.  3.]\n",
      "[2. 1. 3.]\n"
     ]
    }
   ],
   "source": [
    "b1 = np.array([[1, 0, 0], [0, 1, 0], [0, 0, 1]])\n",
    "b2 = np.array([[1, 0, 0], [0, 1, -1], [0, 0, 1]])\n",
    "v = np.array([2, -2, 3])\n",
    "\n",
    "print(np.linalg.solve(b1, v))\n",
    "print(np.linalg.solve(b2, v))"
   ]
  },
  {
   "cell_type": "markdown",
   "id": "0837dcde",
   "metadata": {},
   "source": [
    "5. Установить, является ли линейным подпространством:\n",
    "    \n",
    "а) совокупность всех векторов трехмерного пространства, у которых по крайней мере одна из первых двух координат равна нулю;\n",
    "\n",
    "б) все векторы, являющиеся линейными комбинациями данных векторов  {u1,u2,…,un} ."
   ]
  },
  {
   "cell_type": "markdown",
   "id": "e69376c3",
   "metadata": {},
   "source": [
    "a)  не является линейным подпространством.\n",
    "\n",
    "б) Согл. определению, если взять в n-мерном линейном пространстве конечный набор векторов {u1,u2,…,un}. Тогда совокупность образует некоторое подпространство. Т.о. является линейным подпространством."
   ]
  }
 ],
 "metadata": {
  "kernelspec": {
   "display_name": "Python 3",
   "language": "python",
   "name": "python3"
  },
  "language_info": {
   "codemirror_mode": {
    "name": "ipython",
    "version": 3
   },
   "file_extension": ".py",
   "mimetype": "text/x-python",
   "name": "python",
   "nbconvert_exporter": "python",
   "pygments_lexer": "ipython3",
   "version": "3.8.8"
  }
 },
 "nbformat": 4,
 "nbformat_minor": 5
}

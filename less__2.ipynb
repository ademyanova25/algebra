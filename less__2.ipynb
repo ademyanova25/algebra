{
 "cells": [
  {
   "cell_type": "markdown",
   "id": "55eebcb9",
   "metadata": {},
   "source": [
    "1. Установить, какие произведения матриц  AB  и  BA  определены, и найти размерности полученных матриц:\n",
    "\n",
    "а)  A  — матрица  4×2 ,  B  — матрица  4×2 ;\n",
    "\n",
    "б)  A  — матрица  2×5 ,  B  — матрица  5×3 ;\n",
    "\n",
    "в)  A  — матрица  8×3 ,  B  — матрица  3×8 ;\n",
    "\n",
    "г)  A  — квадратная матрица  4×4 ,  B  — квадратная матрица  4×4 ."
   ]
  },
  {
   "cell_type": "markdown",
   "id": "3705e4b7",
   "metadata": {},
   "source": [
    "а) AB и BA - не определены\n",
    "\n",
    "б) AB - 2×3\n",
    "BA - неопределено\n",
    "\n",
    "в) AB  8×8\n",
    "BA - 3×3\n",
    "\n",
    "г) AB - 4×4\n",
    "BA - 4×4"
   ]
  },
  {
   "cell_type": "markdown",
   "id": "8da82d53",
   "metadata": {},
   "source": [
    "2. Найти сумму и произведение матриц   A = ([1, -2], [3,0])  и  B = ([4, −1], [0,5]) )"
   ]
  },
  {
   "cell_type": "markdown",
   "id": "d11bda03",
   "metadata": {},
   "source": [
    "A+B = ([5,-3], [3,5])\n",
    "\n"
   ]
  },
  {
   "cell_type": "code",
   "execution_count": 19,
   "id": "6c7ae558",
   "metadata": {},
   "outputs": [
    {
     "data": {
      "text/plain": [
       "(4, -11, 12, -3)"
      ]
     },
     "execution_count": 19,
     "metadata": {},
     "output_type": "execute_result"
    }
   ],
   "source": [
    "AB1 = (1*4 + (-2)*0) \n",
    "AB2 = (1*(-1)) + ((-2)*5) \n",
    "AB3 = (3*4 + 0*0) \n",
    "AB4 = (3*(-1) + 0*5) \n",
    "AB1, AB2, AB3, AB4"
   ]
  },
  {
   "cell_type": "code",
   "execution_count": 20,
   "id": "69d427e8",
   "metadata": {},
   "outputs": [],
   "source": [
    "AB = ([4, -11], [12,-3])"
   ]
  },
  {
   "cell_type": "markdown",
   "id": "6b5e6f76",
   "metadata": {},
   "source": [
    "3. Из закономерностей сложения и умножения матриц на число можно сделать вывод, что матрицы одного размера образуют линейное пространство. Вычислить линейную комбинацию  3A−2B+4C  для матриц \n",
    "\n",
    "A=([[1,7], [3, -6]])\n",
    "\n",
    "B=([[0,5], [2,-1]])\n",
    "\n",
    "C=([[2, -4], [1,1]])\n"
   ]
  },
  {
   "cell_type": "markdown",
   "id": "568d8903",
   "metadata": {},
   "source": [
    "\n",
    "3A = ([[3,21], [9,-18]])\n",
    "\n",
    "-2B = ([[0,-10], [-4,2]])\n",
    "\n",
    "4C = ([[8,-16], [4,4]])\n",
    "\n",
    "3A−2B+4C = ([[3,21], [9,-18]]) + ([[0,-10], [-4,2]]) + ([[8,-16], [4,4]]) = ([[11,-5], [9,-12]])\n"
   ]
  },
  {
   "cell_type": "markdown",
   "id": "37ee3937",
   "metadata": {},
   "source": [
    "4. Дана матрица A = ([[4,1], [5,-2], [2,3]])"
   ]
  },
  {
   "cell_type": "markdown",
   "id": "e5fd6d07",
   "metadata": {},
   "source": [
    "AAT = ([[4,1], [5,-2], [2,3]]) * ([[4,5,2], [1,-2,3]]) = ([[17,18,11], [18,29,4], [11,4,13]])\n",
    "\n",
    "ATA = ([[4,5,2], [1,-2,3]]) * ([[4,1], [5,-2], [2,3]]) = ([45,0], [0,14])\n"
   ]
  },
  {
   "cell_type": "markdown",
   "id": "36ae7793",
   "metadata": {},
   "source": [
    "5*. Написать на Python функцию для перемножения двух произвольных матриц, не используя NumPy."
   ]
  },
  {
   "cell_type": "code",
   "execution_count": null,
   "id": "7b93146d",
   "metadata": {},
   "outputs": [],
   "source": []
  },
  {
   "cell_type": "markdown",
   "id": "701b592e",
   "metadata": {},
   "source": [
    "1. Вычислить определитель:\n",
    "\n",
    "а) det[sinX, -cosX], [cosX, sinX] \n",
    "\n",
    "б) det[4,2,3], [0,5,1], [0,0,9] \n",
    "\n",
    "в) det[1,2,3], [4,5,6], [7,8,9]\n"
   ]
  },
  {
   "cell_type": "markdown",
   "id": "3407f80b",
   "metadata": {},
   "source": [
    "а) 1"
   ]
  },
  {
   "cell_type": "code",
   "execution_count": 21,
   "id": "435406d2",
   "metadata": {},
   "outputs": [
    {
     "data": {
      "text/plain": [
       "180"
      ]
     },
     "execution_count": 21,
     "metadata": {},
     "output_type": "execute_result"
    }
   ],
   "source": [
    "4*5 * 9+0 * 0 * 3+0*2*1-3*5*0-2*0*9-4 * 0 * 1"
   ]
  },
  {
   "cell_type": "code",
   "execution_count": 22,
   "id": "89239d27",
   "metadata": {},
   "outputs": [
    {
     "data": {
      "text/plain": [
       "0"
      ]
     },
     "execution_count": 22,
     "metadata": {},
     "output_type": "execute_result"
    }
   ],
   "source": [
    "1*5*9+2*6*7+3*4*8-3*5*7-1*6*8-2*4*9"
   ]
  },
  {
   "cell_type": "markdown",
   "id": "f25f9b09",
   "metadata": {},
   "source": [
    "2. Определитель матрицы А равен 4. Найти:\n",
    "а) det(A²) = 4**2 = 16\n",
    "\n",
    "б) det(AT) = 4\n",
    "\n",
    "в) det(2A) = 4*2 = 8"
   ]
  },
  {
   "cell_type": "markdown",
   "id": "8923749f",
   "metadata": {},
   "source": [
    "\n",
    "3. Доказать, что матрица\n",
    "\n",
    "detA = 0\n",
    "A = ([[-2,7,-3], [4,-14,6], [-3,7,13]])"
   ]
  },
  {
   "cell_type": "code",
   "execution_count": 23,
   "id": "2cf9bfd6",
   "metadata": {},
   "outputs": [
    {
     "data": {
      "text/plain": [
       "0"
      ]
     },
     "execution_count": 23,
     "metadata": {},
     "output_type": "execute_result"
    }
   ],
   "source": [
    "detA = (-2)*(-14)*13 + 7*6*(-3) + (-3)*4*7 - (-3)*(-14)*(-3) - (-2)*6*7 - 7*4*13 \n",
    "detA"
   ]
  },
  {
   "cell_type": "markdown",
   "id": "a2c8b74e",
   "metadata": {},
   "source": [
    "4. Найти ранг матрицы:\n",
    "A = np.arrea([[1,2,3], [1,1,1], [2,3,4]])\n",
    "\n",
    "B = np.arrea([[0,0,2,1], [0,0,2,2], [0,0,4,3], [2,3,5,6]])\n"
   ]
  },
  {
   "cell_type": "markdown",
   "id": "40580994",
   "metadata": {},
   "source": [
    "rankA = 2"
   ]
  },
  {
   "cell_type": "markdown",
   "id": "a1f16ac9",
   "metadata": {},
   "source": [
    "rankB = 3"
   ]
  }
 ],
 "metadata": {
  "kernelspec": {
   "display_name": "Python 3",
   "language": "python",
   "name": "python3"
  },
  "language_info": {
   "codemirror_mode": {
    "name": "ipython",
    "version": 3
   },
   "file_extension": ".py",
   "mimetype": "text/x-python",
   "name": "python",
   "nbconvert_exporter": "python",
   "pygments_lexer": "ipython3",
   "version": "3.8.8"
  }
 },
 "nbformat": 4,
 "nbformat_minor": 5
}
